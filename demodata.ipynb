{
 "cells": [
  {
   "cell_type": "code",
   "execution_count": 56,
   "id": "3e65c10d",
   "metadata": {},
   "outputs": [
    {
     "data": {
      "text/html": [
       "<div>\n",
       "<style scoped>\n",
       "    .dataframe tbody tr th:only-of-type {\n",
       "        vertical-align: middle;\n",
       "    }\n",
       "\n",
       "    .dataframe tbody tr th {\n",
       "        vertical-align: top;\n",
       "    }\n",
       "\n",
       "    .dataframe thead th {\n",
       "        text-align: right;\n",
       "    }\n",
       "</style>\n",
       "<table border=\"1\" class=\"dataframe\">\n",
       "  <thead>\n",
       "    <tr style=\"text-align: right;\">\n",
       "      <th></th>\n",
       "      <th>State</th>\n",
       "      <th>Category</th>\n",
       "      <th>Demo_Group</th>\n",
       "      <th>Demo_Specific</th>\n",
       "      <th>Estimate_type</th>\n",
       "      <th>April_2021</th>\n",
       "      <th>May_2021</th>\n",
       "      <th>June_2021</th>\n",
       "      <th>July_2021</th>\n",
       "      <th>August_2021</th>\n",
       "      <th>September_2021</th>\n",
       "      <th>October_2021</th>\n",
       "    </tr>\n",
       "  </thead>\n",
       "  <tbody>\n",
       "    <tr>\n",
       "      <th>0</th>\n",
       "      <td>TX</td>\n",
       "      <td>Cases</td>\n",
       "      <td>age</td>\n",
       "      <td>0_9</td>\n",
       "      <td>rate_percent</td>\n",
       "      <td>2.042581</td>\n",
       "      <td>2.103747</td>\n",
       "      <td>2.087370</td>\n",
       "      <td>2.109844</td>\n",
       "      <td>2.385216</td>\n",
       "      <td>2.385216</td>\n",
       "      <td>2.385216</td>\n",
       "    </tr>\n",
       "    <tr>\n",
       "      <th>1</th>\n",
       "      <td>TX</td>\n",
       "      <td>Cases</td>\n",
       "      <td>age</td>\n",
       "      <td>0_9</td>\n",
       "      <td>total_cumulative</td>\n",
       "      <td>1578.000000</td>\n",
       "      <td>1660.000000</td>\n",
       "      <td>1659.000000</td>\n",
       "      <td>1690.500000</td>\n",
       "      <td>2384.000000</td>\n",
       "      <td>2384.000000</td>\n",
       "      <td>2384.000000</td>\n",
       "    </tr>\n",
       "    <tr>\n",
       "      <th>2</th>\n",
       "      <td>TX</td>\n",
       "      <td>Cases</td>\n",
       "      <td>age</td>\n",
       "      <td>10_19</td>\n",
       "      <td>rate_percent</td>\n",
       "      <td>4.621450</td>\n",
       "      <td>4.730021</td>\n",
       "      <td>4.795038</td>\n",
       "      <td>4.856197</td>\n",
       "      <td>5.372740</td>\n",
       "      <td>5.372740</td>\n",
       "      <td>5.372740</td>\n",
       "    </tr>\n",
       "    <tr>\n",
       "      <th>3</th>\n",
       "      <td>TX</td>\n",
       "      <td>Cases</td>\n",
       "      <td>age</td>\n",
       "      <td>10_19</td>\n",
       "      <td>total_cumulative</td>\n",
       "      <td>3570.500000</td>\n",
       "      <td>3732.500000</td>\n",
       "      <td>3811.000000</td>\n",
       "      <td>3891.000000</td>\n",
       "      <td>5370.000000</td>\n",
       "      <td>5370.000000</td>\n",
       "      <td>5370.000000</td>\n",
       "    </tr>\n",
       "    <tr>\n",
       "      <th>4</th>\n",
       "      <td>TX</td>\n",
       "      <td>Cases</td>\n",
       "      <td>age</td>\n",
       "      <td>20_29</td>\n",
       "      <td>rate_percent</td>\n",
       "      <td>19.924370</td>\n",
       "      <td>19.850523</td>\n",
       "      <td>19.864617</td>\n",
       "      <td>19.841767</td>\n",
       "      <td>20.400404</td>\n",
       "      <td>20.400404</td>\n",
       "      <td>20.400404</td>\n",
       "    </tr>\n",
       "  </tbody>\n",
       "</table>\n",
       "</div>"
      ],
      "text/plain": [
       "  State Category Demo_Group Demo_Specific     Estimate_type   April_2021  \\\n",
       "0    TX    Cases        age           0_9      rate_percent     2.042581   \n",
       "1    TX    Cases        age           0_9  total_cumulative  1578.000000   \n",
       "2    TX    Cases        age         10_19      rate_percent     4.621450   \n",
       "3    TX    Cases        age         10_19  total_cumulative  3570.500000   \n",
       "4    TX    Cases        age         20_29      rate_percent    19.924370   \n",
       "\n",
       "      May_2021    June_2021    July_2021  August_2021  September_2021  \\\n",
       "0     2.103747     2.087370     2.109844     2.385216        2.385216   \n",
       "1  1660.000000  1659.000000  1690.500000  2384.000000     2384.000000   \n",
       "2     4.730021     4.795038     4.856197     5.372740        5.372740   \n",
       "3  3732.500000  3811.000000  3891.000000  5370.000000     5370.000000   \n",
       "4    19.850523    19.864617    19.841767    20.400404       20.400404   \n",
       "\n",
       "   October_2021  \n",
       "0      2.385216  \n",
       "1   2384.000000  \n",
       "2      5.372740  \n",
       "3   5370.000000  \n",
       "4     20.400404  "
      ]
     },
     "execution_count": 56,
     "metadata": {},
     "output_type": "execute_result"
    }
   ],
   "source": [
    "import matplotlib.pyplot as plt\n",
    "import numpy as np\n",
    "import pandas as pd\n",
    "import scipy.stats as st\n",
    "\n",
    "demodata_cases = \"resources/texas_demographics_cases.csv\"\n",
    "demodata_deaths = \"resources/texas_demographics_deaths.csv\"\n",
    "demodata_vaccines = \"resources/texas_demographics_cases_vaccines.csv\"\n",
    "\n",
    "demodata_cases = pd.read_csv(demodata_cases)\n",
    "demodata_cases.head()\n"
   ]
  },
  {
   "cell_type": "code",
   "execution_count": 69,
   "id": "fe0c0167",
   "metadata": {},
   "outputs": [
    {
     "data": {
      "text/plain": [
       "pandas.core.groupby.generic.DataFrameGroupBy"
      ]
     },
     "execution_count": 69,
     "metadata": {},
     "output_type": "execute_result"
    }
   ],
   "source": [
    "#demodata_cases_categories = demodata_cases.groupby(\"Category\")\n",
    "#type(demodata_cases_categories)\n",
    "demodata_cases_cats = demodata_cases.groupby('Demo_Group')\n",
    "type(demodata_cases_cats)\n"
   ]
  },
  {
   "cell_type": "code",
   "execution_count": 70,
   "id": "f360fbd9",
   "metadata": {},
   "outputs": [
    {
     "data": {
      "text/plain": [
       "3"
      ]
     },
     "execution_count": 70,
     "metadata": {},
     "output_type": "execute_result"
    }
   ],
   "source": [
    "#demodata_cases_categories.ngroups\n",
    "demodata_cases_cats.ngroups"
   ]
  },
  {
   "cell_type": "code",
   "execution_count": 71,
   "id": "cdf62642",
   "metadata": {},
   "outputs": [
    {
     "data": {
      "text/plain": [
       "Demo_Group\n",
       "age               18\n",
       "gender             6\n",
       "race_ethnicity    12\n",
       "dtype: int64"
      ]
     },
     "execution_count": 71,
     "metadata": {},
     "output_type": "execute_result"
    }
   ],
   "source": [
    "demodata_cases_cats.size()"
   ]
  },
  {
   "cell_type": "code",
   "execution_count": 72,
   "id": "b2ef74fe",
   "metadata": {},
   "outputs": [
    {
     "data": {
      "text/plain": [
       "{'age': [0, 1, 2, 3, 4, 5, 6, 7, 8, 9, 10, 11, 12, 13, 14, 15, 16, 17], 'gender': [18, 19, 20, 21, 22, 23], 'race_ethnicity': [24, 25, 26, 27, 28, 29, 30, 31, 32, 33, 34, 35]}"
      ]
     },
     "execution_count": 72,
     "metadata": {},
     "output_type": "execute_result"
    }
   ],
   "source": [
    "demodata_cases_cats.groups"
   ]
  },
  {
   "cell_type": "code",
   "execution_count": 73,
   "id": "94ceda21",
   "metadata": {},
   "outputs": [
    {
     "data": {
      "text/html": [
       "<div>\n",
       "<style scoped>\n",
       "    .dataframe tbody tr th:only-of-type {\n",
       "        vertical-align: middle;\n",
       "    }\n",
       "\n",
       "    .dataframe tbody tr th {\n",
       "        vertical-align: top;\n",
       "    }\n",
       "\n",
       "    .dataframe thead th {\n",
       "        text-align: right;\n",
       "    }\n",
       "</style>\n",
       "<table border=\"1\" class=\"dataframe\">\n",
       "  <thead>\n",
       "    <tr style=\"text-align: right;\">\n",
       "      <th></th>\n",
       "      <th>State</th>\n",
       "      <th>Category</th>\n",
       "      <th>Demo_Specific</th>\n",
       "      <th>Estimate_type</th>\n",
       "      <th>April_2021</th>\n",
       "      <th>May_2021</th>\n",
       "      <th>June_2021</th>\n",
       "      <th>July_2021</th>\n",
       "      <th>August_2021</th>\n",
       "      <th>September_2021</th>\n",
       "      <th>October_2021</th>\n",
       "    </tr>\n",
       "    <tr>\n",
       "      <th>Demo_Group</th>\n",
       "      <th></th>\n",
       "      <th></th>\n",
       "      <th></th>\n",
       "      <th></th>\n",
       "      <th></th>\n",
       "      <th></th>\n",
       "      <th></th>\n",
       "      <th></th>\n",
       "      <th></th>\n",
       "      <th></th>\n",
       "      <th></th>\n",
       "    </tr>\n",
       "  </thead>\n",
       "  <tbody>\n",
       "    <tr>\n",
       "      <th>age</th>\n",
       "      <td>TX</td>\n",
       "      <td>Cases</td>\n",
       "      <td>0_9</td>\n",
       "      <td>rate_percent</td>\n",
       "      <td>2.042581</td>\n",
       "      <td>2.103747</td>\n",
       "      <td>2.08737</td>\n",
       "      <td>2.109844</td>\n",
       "      <td>2.385216</td>\n",
       "      <td>2.385216</td>\n",
       "      <td>2.385216</td>\n",
       "    </tr>\n",
       "    <tr>\n",
       "      <th>gender</th>\n",
       "      <td>TX</td>\n",
       "      <td>Cases</td>\n",
       "      <td>female</td>\n",
       "      <td>rate_percent</td>\n",
       "      <td>33.600000</td>\n",
       "      <td>33.950000</td>\n",
       "      <td>34.10000</td>\n",
       "      <td>34.200000</td>\n",
       "      <td>37.500000</td>\n",
       "      <td>37.500000</td>\n",
       "      <td>37.500000</td>\n",
       "    </tr>\n",
       "    <tr>\n",
       "      <th>race_ethnicity</th>\n",
       "      <td>TX</td>\n",
       "      <td>Cases</td>\n",
       "      <td>all_races-hispanic_latino</td>\n",
       "      <td>rate_percent</td>\n",
       "      <td>36.200000</td>\n",
       "      <td>35.850000</td>\n",
       "      <td>35.89000</td>\n",
       "      <td>35.800000</td>\n",
       "      <td>37.000000</td>\n",
       "      <td>37.000000</td>\n",
       "      <td>37.000000</td>\n",
       "    </tr>\n",
       "  </tbody>\n",
       "</table>\n",
       "</div>"
      ],
      "text/plain": [
       "               State Category              Demo_Specific Estimate_type  \\\n",
       "Demo_Group                                                               \n",
       "age               TX    Cases                        0_9  rate_percent   \n",
       "gender            TX    Cases                     female  rate_percent   \n",
       "race_ethnicity    TX    Cases  all_races-hispanic_latino  rate_percent   \n",
       "\n",
       "                April_2021   May_2021  June_2021  July_2021  August_2021  \\\n",
       "Demo_Group                                                                 \n",
       "age               2.042581   2.103747    2.08737   2.109844     2.385216   \n",
       "gender           33.600000  33.950000   34.10000  34.200000    37.500000   \n",
       "race_ethnicity   36.200000  35.850000   35.89000  35.800000    37.000000   \n",
       "\n",
       "                September_2021  October_2021  \n",
       "Demo_Group                                    \n",
       "age                   2.385216      2.385216  \n",
       "gender               37.500000     37.500000  \n",
       "race_ethnicity       37.000000     37.000000  "
      ]
     },
     "execution_count": 73,
     "metadata": {},
     "output_type": "execute_result"
    }
   ],
   "source": [
    "demodata_cases_cats.first()"
   ]
  },
  {
   "cell_type": "code",
   "execution_count": 55,
   "id": "117f1c87",
   "metadata": {},
   "outputs": [],
   "source": [
    "#subset_cases = demodata.loc[:, ['Demo_Group']]\n",
    "#subset_cases.groupby(['Demo_Group'])\n",
    "#subset_cases.head"
   ]
  },
  {
   "cell_type": "code",
   "execution_count": null,
   "id": "a4a229b8",
   "metadata": {},
   "outputs": [],
   "source": []
  },
  {
   "cell_type": "code",
   "execution_count": null,
   "id": "da54f09c",
   "metadata": {},
   "outputs": [],
   "source": []
  }
 ],
 "metadata": {
  "kernelspec": {
   "display_name": "Python 3",
   "language": "python",
   "name": "python3"
  },
  "language_info": {
   "codemirror_mode": {
    "name": "ipython",
    "version": 3
   },
   "file_extension": ".py",
   "mimetype": "text/x-python",
   "name": "python",
   "nbconvert_exporter": "python",
   "pygments_lexer": "ipython3",
   "version": "3.8.8"
  }
 },
 "nbformat": 4,
 "nbformat_minor": 5
}
